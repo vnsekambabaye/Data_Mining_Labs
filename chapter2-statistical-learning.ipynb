{
 "cells": [
  {
   "cell_type": "code",
   "execution_count": 1,
   "id": "13be547e",
   "metadata": {},
   "outputs": [
    {
     "name": "stdout",
     "output_type": "stream",
     "text": [
      "fit a model with 11 variables\n"
     ]
    }
   ],
   "source": [
    "print('fit a model with', 11, 'variables')\n"
   ]
  },
  {
   "cell_type": "code",
   "execution_count": 2,
   "id": "9eb79b74",
   "metadata": {},
   "outputs": [
    {
     "data": {
      "text/plain": [
       "\u001b[1;31mSignature:\u001b[0m \u001b[0mprint\u001b[0m\u001b[1;33m(\u001b[0m\u001b[1;33m*\u001b[0m\u001b[0margs\u001b[0m\u001b[1;33m,\u001b[0m \u001b[0msep\u001b[0m\u001b[1;33m=\u001b[0m\u001b[1;34m' '\u001b[0m\u001b[1;33m,\u001b[0m \u001b[0mend\u001b[0m\u001b[1;33m=\u001b[0m\u001b[1;34m'\\n'\u001b[0m\u001b[1;33m,\u001b[0m \u001b[0mfile\u001b[0m\u001b[1;33m=\u001b[0m\u001b[1;32mNone\u001b[0m\u001b[1;33m,\u001b[0m \u001b[0mflush\u001b[0m\u001b[1;33m=\u001b[0m\u001b[1;32mFalse\u001b[0m\u001b[1;33m)\u001b[0m\u001b[1;33m\u001b[0m\u001b[1;33m\u001b[0m\u001b[0m\n",
       "\u001b[1;31mDocstring:\u001b[0m\n",
       "Prints the values to a stream, or to sys.stdout by default.\n",
       "\n",
       "sep\n",
       "  string inserted between values, default a space.\n",
       "end\n",
       "  string appended after the last value, default a newline.\n",
       "file\n",
       "  a file-like object (stream); defaults to the current sys.stdout.\n",
       "flush\n",
       "  whether to forcibly flush the stream.\n",
       "\u001b[1;31mType:\u001b[0m      builtin_function_or_method"
      ]
     },
     "metadata": {},
     "output_type": "display_data"
    }
   ],
   "source": [
    "print?\n"
   ]
  },
  {
   "cell_type": "code",
   "execution_count": 3,
   "id": "0fb04362",
   "metadata": {},
   "outputs": [
    {
     "data": {
      "text/plain": [
       "8"
      ]
     },
     "execution_count": 3,
     "metadata": {},
     "output_type": "execute_result"
    }
   ],
   "source": [
    "3 + 5\n"
   ]
  },
  {
   "cell_type": "code",
   "execution_count": 4,
   "id": "e69d158e",
   "metadata": {},
   "outputs": [
    {
     "data": {
      "text/plain": [
       "'hello world'"
      ]
     },
     "execution_count": 4,
     "metadata": {},
     "output_type": "execute_result"
    }
   ],
   "source": [
    "\"hello\" + \" \" + \"world\"\n"
   ]
  },
  {
   "cell_type": "code",
   "execution_count": 5,
   "id": "469b6873",
   "metadata": {},
   "outputs": [
    {
     "data": {
      "text/plain": [
       "[3, 4, 5]"
      ]
     },
     "execution_count": 5,
     "metadata": {},
     "output_type": "execute_result"
    }
   ],
   "source": [
    "x = [3, 4, 5]\n",
    "x\n"
   ]
  },
  {
   "cell_type": "code",
   "execution_count": 6,
   "id": "8bcb5c5b",
   "metadata": {},
   "outputs": [
    {
     "data": {
      "text/plain": [
       "[3, 4, 5, 4, 9, 7]"
      ]
     },
     "execution_count": 6,
     "metadata": {},
     "output_type": "execute_result"
    }
   ],
   "source": [
    "y = [4, 9, 7]\n",
    "x + y\n"
   ]
  },
  {
   "cell_type": "markdown",
   "id": "0bdfdebb",
   "metadata": {},
   "source": [
    "  To access `numpy`, we must first `import` it."
   ]
  },
  {
   "cell_type": "code",
   "execution_count": 7,
   "id": "ac55fedf",
   "metadata": {
    "lines_to_next_cell": 0
   },
   "outputs": [],
   "source": [
    "import numpy as np "
   ]
  },
  {
   "cell_type": "code",
   "execution_count": 8,
   "id": "c4d9f140",
   "metadata": {
    "lines_to_next_cell": 0
   },
   "outputs": [],
   "source": [
    "x = np.array([3, 4, 5])\n",
    "y = np.array([4, 9, 7])"
   ]
  },
  {
   "cell_type": "code",
   "execution_count": 9,
   "id": "106ef1ea",
   "metadata": {
    "lines_to_next_cell": 0
   },
   "outputs": [
    {
     "data": {
      "text/plain": [
       "array([ 7, 13, 12])"
      ]
     },
     "execution_count": 9,
     "metadata": {},
     "output_type": "execute_result"
    }
   ],
   "source": [
    "x + y"
   ]
  },
  {
   "cell_type": "markdown",
   "id": "0135aa6b",
   "metadata": {},
   "source": [
    "    \n",
    " \n"
   ]
  },
  {
   "cell_type": "code",
   "execution_count": 10,
   "id": "d111ed03",
   "metadata": {
    "lines_to_next_cell": 0
   },
   "outputs": [
    {
     "data": {
      "text/plain": [
       "array([[1, 2],\n",
       "       [3, 4]])"
      ]
     },
     "execution_count": 10,
     "metadata": {},
     "output_type": "execute_result"
    }
   ],
   "source": [
    "x = np.array([[1, 2], [3, 4]])\n",
    "x"
   ]
  },
  {
   "cell_type": "markdown",
   "id": "b8e25756",
   "metadata": {},
   "source": [
    "    \n",
    "\n"
   ]
  },
  {
   "cell_type": "code",
   "execution_count": 11,
   "id": "d9562687",
   "metadata": {},
   "outputs": [
    {
     "data": {
      "text/plain": [
       "2"
      ]
     },
     "execution_count": 11,
     "metadata": {},
     "output_type": "execute_result"
    }
   ],
   "source": [
    "x.ndim"
   ]
  },
  {
   "cell_type": "code",
   "execution_count": 12,
   "id": "4fe5b7cf",
   "metadata": {
    "lines_to_next_cell": 0
   },
   "outputs": [
    {
     "data": {
      "text/plain": [
       "dtype('int32')"
      ]
     },
     "execution_count": 12,
     "metadata": {},
     "output_type": "execute_result"
    }
   ],
   "source": [
    "x.dtype"
   ]
  },
  {
   "cell_type": "code",
   "execution_count": 13,
   "id": "c4c43c7d",
   "metadata": {
    "lines_to_next_cell": 2
   },
   "outputs": [
    {
     "data": {
      "text/plain": [
       "dtype('float64')"
      ]
     },
     "execution_count": 13,
     "metadata": {},
     "output_type": "execute_result"
    }
   ],
   "source": [
    "np.array([[1, 2], [3.0, 4]]).dtype\n"
   ]
  },
  {
   "cell_type": "code",
   "execution_count": 14,
   "id": "62851cb3",
   "metadata": {
    "lines_to_next_cell": 0
   },
   "outputs": [
    {
     "data": {
      "text/plain": [
       "\u001b[1;31mDocstring:\u001b[0m\n",
       "array(object, dtype=None, *, copy=True, order='K', subok=False, ndmin=0,\n",
       "      like=None)\n",
       "\n",
       "Create an array.\n",
       "\n",
       "Parameters\n",
       "----------\n",
       "object : array_like\n",
       "    An array, any object exposing the array interface, an object whose\n",
       "    ``__array__`` method returns an array, or any (nested) sequence.\n",
       "    If object is a scalar, a 0-dimensional array containing object is\n",
       "    returned.\n",
       "dtype : data-type, optional\n",
       "    The desired data-type for the array. If not given, NumPy will try to use\n",
       "    a default ``dtype`` that can represent the values (by applying promotion\n",
       "    rules when necessary.)\n",
       "copy : bool, optional\n",
       "    If true (default), then the object is copied.  Otherwise, a copy will\n",
       "    only be made if ``__array__`` returns a copy, if obj is a nested\n",
       "    sequence, or if a copy is needed to satisfy any of the other\n",
       "    requirements (``dtype``, ``order``, etc.).\n",
       "order : {'K', 'A', 'C', 'F'}, optional\n",
       "    Specify the memory layout of the array. If object is not an array, the\n",
       "    newly created array will be in C order (row major) unless 'F' is\n",
       "    specified, in which case it will be in Fortran order (column major).\n",
       "    If object is an array the following holds.\n",
       "\n",
       "    ===== ========= ===================================================\n",
       "    order  no copy                     copy=True\n",
       "    ===== ========= ===================================================\n",
       "    'K'   unchanged F & C order preserved, otherwise most similar order\n",
       "    'A'   unchanged F order if input is F and not C, otherwise C order\n",
       "    'C'   C order   C order\n",
       "    'F'   F order   F order\n",
       "    ===== ========= ===================================================\n",
       "\n",
       "    When ``copy=False`` and a copy is made for other reasons, the result is\n",
       "    the same as if ``copy=True``, with some exceptions for 'A', see the\n",
       "    Notes section. The default order is 'K'.\n",
       "subok : bool, optional\n",
       "    If True, then sub-classes will be passed-through, otherwise\n",
       "    the returned array will be forced to be a base-class array (default).\n",
       "ndmin : int, optional\n",
       "    Specifies the minimum number of dimensions that the resulting\n",
       "    array should have.  Ones will be prepended to the shape as\n",
       "    needed to meet this requirement.\n",
       "like : array_like, optional\n",
       "    Reference object to allow the creation of arrays which are not\n",
       "    NumPy arrays. If an array-like passed in as ``like`` supports\n",
       "    the ``__array_function__`` protocol, the result will be defined\n",
       "    by it. In this case, it ensures the creation of an array object\n",
       "    compatible with that passed in via this argument.\n",
       "\n",
       "    .. versionadded:: 1.20.0\n",
       "\n",
       "Returns\n",
       "-------\n",
       "out : ndarray\n",
       "    An array object satisfying the specified requirements.\n",
       "\n",
       "See Also\n",
       "--------\n",
       "empty_like : Return an empty array with shape and type of input.\n",
       "ones_like : Return an array of ones with shape and type of input.\n",
       "zeros_like : Return an array of zeros with shape and type of input.\n",
       "full_like : Return a new array with shape of input filled with value.\n",
       "empty : Return a new uninitialized array.\n",
       "ones : Return a new array setting values to one.\n",
       "zeros : Return a new array setting values to zero.\n",
       "full : Return a new array of given shape filled with value.\n",
       "\n",
       "\n",
       "Notes\n",
       "-----\n",
       "When order is 'A' and ``object`` is an array in neither 'C' nor 'F' order,\n",
       "and a copy is forced by a change in dtype, then the order of the result is\n",
       "not necessarily 'C' as expected. This is likely a bug.\n",
       "\n",
       "Examples\n",
       "--------\n",
       ">>> np.array([1, 2, 3])\n",
       "array([1, 2, 3])\n",
       "\n",
       "Upcasting:\n",
       "\n",
       ">>> np.array([1, 2, 3.0])\n",
       "array([ 1.,  2.,  3.])\n",
       "\n",
       "More than one dimension:\n",
       "\n",
       ">>> np.array([[1, 2], [3, 4]])\n",
       "array([[1, 2],\n",
       "       [3, 4]])\n",
       "\n",
       "Minimum dimensions 2:\n",
       "\n",
       ">>> np.array([1, 2, 3], ndmin=2)\n",
       "array([[1, 2, 3]])\n",
       "\n",
       "Type provided:\n",
       "\n",
       ">>> np.array([1, 2, 3], dtype=complex)\n",
       "array([ 1.+0.j,  2.+0.j,  3.+0.j])\n",
       "\n",
       "Data-type consisting of more than one element:\n",
       "\n",
       ">>> x = np.array([(1,2),(3,4)],dtype=[('a','<i4'),('b','<i4')])\n",
       ">>> x['a']\n",
       "array([1, 3])\n",
       "\n",
       "Creating an array from sub-classes:\n",
       "\n",
       ">>> np.array(np.mat('1 2; 3 4'))\n",
       "array([[1, 2],\n",
       "       [3, 4]])\n",
       "\n",
       ">>> np.array(np.mat('1 2; 3 4'), subok=True)\n",
       "matrix([[1, 2],\n",
       "        [3, 4]])\n",
       "\u001b[1;31mType:\u001b[0m      builtin_function_or_method"
      ]
     },
     "metadata": {},
     "output_type": "display_data"
    }
   ],
   "source": [
    "np.array?\n"
   ]
  },
  {
   "cell_type": "code",
   "execution_count": 15,
   "id": "816dac08",
   "metadata": {
    "lines_to_next_cell": 2
   },
   "outputs": [
    {
     "data": {
      "text/plain": [
       "dtype('float64')"
      ]
     },
     "execution_count": 15,
     "metadata": {},
     "output_type": "execute_result"
    }
   ],
   "source": [
    "np.array([[1, 2], [3, 4]], float).dtype\n"
   ]
  },
  {
   "cell_type": "code",
   "execution_count": 16,
   "id": "9a81115b",
   "metadata": {
    "lines_to_next_cell": 2
   },
   "outputs": [
    {
     "data": {
      "text/plain": [
       "(2, 2)"
      ]
     },
     "execution_count": 16,
     "metadata": {},
     "output_type": "execute_result"
    }
   ],
   "source": [
    "x.shape\n"
   ]
  },
  {
   "cell_type": "code",
   "execution_count": 17,
   "id": "8f051245",
   "metadata": {
    "lines_to_next_cell": 0
   },
   "outputs": [
    {
     "data": {
      "text/plain": [
       "10"
      ]
     },
     "execution_count": 17,
     "metadata": {},
     "output_type": "execute_result"
    }
   ],
   "source": [
    "x = np.array([1, 2, 3, 4])\n",
    "x.sum()"
   ]
  },
  {
   "cell_type": "code",
   "execution_count": 18,
   "id": "906c3a0e",
   "metadata": {
    "lines_to_next_cell": 0
   },
   "outputs": [
    {
     "data": {
      "text/plain": [
       "10"
      ]
     },
     "execution_count": 18,
     "metadata": {},
     "output_type": "execute_result"
    }
   ],
   "source": [
    "x = np.array([1, 2, 3, 4])\n",
    "np.sum(x)"
   ]
  },
  {
   "cell_type": "code",
   "execution_count": 19,
   "id": "e8b8d6db",
   "metadata": {},
   "outputs": [
    {
     "name": "stdout",
     "output_type": "stream",
     "text": [
      "beginning x:\n",
      " [1 2 3 4 5 6]\n",
      "reshaped x:\n",
      " [[1 2 3]\n",
      " [4 5 6]]\n"
     ]
    }
   ],
   "source": [
    "x = np.array([1, 2, 3, 4, 5, 6])\n",
    "print('beginning x:\\n', x)\n",
    "x_reshape = x.reshape((2, 3))\n",
    "print('reshaped x:\\n', x_reshape)\n"
   ]
  },
  {
   "cell_type": "code",
   "execution_count": 20,
   "id": "47c39f33",
   "metadata": {
    "lines_to_next_cell": 0
   },
   "outputs": [
    {
     "data": {
      "text/plain": [
       "1"
      ]
     },
     "execution_count": 20,
     "metadata": {},
     "output_type": "execute_result"
    }
   ],
   "source": [
    "x_reshape[0, 0] "
   ]
  },
  {
   "cell_type": "code",
   "execution_count": 21,
   "id": "d74a5638",
   "metadata": {
    "lines_to_next_cell": 0
   },
   "outputs": [
    {
     "data": {
      "text/plain": [
       "6"
      ]
     },
     "execution_count": 21,
     "metadata": {},
     "output_type": "execute_result"
    }
   ],
   "source": [
    "x_reshape[1, 2] "
   ]
  },
  {
   "cell_type": "code",
   "execution_count": 22,
   "id": "5a19217f",
   "metadata": {},
   "outputs": [
    {
     "name": "stdout",
     "output_type": "stream",
     "text": [
      "x before we modify x_reshape:\n",
      " [1 2 3 4 5 6]\n",
      "x_reshape before we modify x_reshape:\n",
      " [[1 2 3]\n",
      " [4 5 6]]\n",
      "x_reshape after we modify its top left element:\n",
      " [[5 2 3]\n",
      " [4 5 6]]\n",
      "x after we modify top left element of x_reshape:\n",
      " [5 2 3 4 5 6]\n"
     ]
    }
   ],
   "source": [
    "print('x before we modify x_reshape:\\n', x)\n",
    "print('x_reshape before we modify x_reshape:\\n', x_reshape)\n",
    "x_reshape[0, 0] = 5\n",
    "print('x_reshape after we modify its top left element:\\n', x_reshape)\n",
    "print('x after we modify top left element of x_reshape:\\n', x)\n"
   ]
  },
  {
   "cell_type": "code",
   "execution_count": 24,
   "id": "116ec7b8",
   "metadata": {
    "lines_to_next_cell": 2
   },
   "outputs": [
    {
     "name": "stdout",
     "output_type": "stream",
     "text": [
      "[2, 4, 5]\n"
     ]
    }
   ],
   "source": [
    "my_list = list(my_tuple)  # Convert tuple to list\n",
    "my_list[0] = 2            # Modify the first element\n",
    "print(my_list)            # Output: [2, 4, 5]\n"
   ]
  },
  {
   "cell_type": "code",
   "execution_count": null,
   "id": "ec5dc91e",
   "metadata": {},
   "outputs": [],
   "source": [
    "x_reshape.shape, x_reshape.ndim, x_reshape.T\n"
   ]
  },
  {
   "cell_type": "code",
   "execution_count": null,
   "id": "31fbaf86",
   "metadata": {},
   "outputs": [],
   "source": [
    "np.sqrt(x)\n"
   ]
  },
  {
   "cell_type": "markdown",
   "id": "83bd2725",
   "metadata": {},
   "source": [
    "We can also square the elements:"
   ]
  },
  {
   "cell_type": "code",
   "execution_count": null,
   "id": "c0e63f89",
   "metadata": {},
   "outputs": [],
   "source": [
    "x**2\n"
   ]
  },
  {
   "cell_type": "code",
   "execution_count": null,
   "id": "365d1248",
   "metadata": {
    "lines_to_next_cell": 2
   },
   "outputs": [],
   "source": [
    "x**0.5\n"
   ]
  },
  {
   "cell_type": "code",
   "execution_count": null,
   "id": "e2756bb9",
   "metadata": {},
   "outputs": [],
   "source": [
    "x = np.random.normal(size=50)\n",
    "x\n"
   ]
  },
  {
   "cell_type": "code",
   "execution_count": null,
   "id": "d336dde1",
   "metadata": {
    "lines_to_next_cell": 0
   },
   "outputs": [],
   "source": [
    "y = x + np.random.normal(loc=50, scale=1, size=50)"
   ]
  },
  {
   "cell_type": "code",
   "execution_count": null,
   "id": "cad26f2b",
   "metadata": {},
   "outputs": [],
   "source": [
    "np.corrcoef(x, y)"
   ]
  },
  {
   "cell_type": "code",
   "execution_count": null,
   "id": "a621aa6c",
   "metadata": {
    "lines_to_next_cell": 0
   },
   "outputs": [],
   "source": [
    "print(np.random.normal(scale=5, size=2))\n",
    "print(np.random.normal(scale=5, size=2)) \n"
   ]
  },
  {
   "cell_type": "markdown",
   "id": "ca8af484",
   "metadata": {},
   "source": [
    "    "
   ]
  },
  {
   "cell_type": "code",
   "execution_count": null,
   "id": "8b4cf04d",
   "metadata": {},
   "outputs": [],
   "source": [
    "rng = np.random.default_rng(1303)\n",
    "print(rng.normal(scale=5, size=2))\n",
    "rng2 = np.random.default_rng(1303)\n",
    "print(rng2.normal(scale=5, size=2)) "
   ]
  },
  {
   "cell_type": "code",
   "execution_count": null,
   "id": "4b80757c",
   "metadata": {
    "lines_to_next_cell": 0
   },
   "outputs": [],
   "source": [
    "rng = np.random.default_rng(3)\n",
    "y = rng.standard_normal(10)\n",
    "np.mean(y), y.mean()"
   ]
  },
  {
   "cell_type": "markdown",
   "id": "89f3df11",
   "metadata": {},
   "source": [
    "    \n"
   ]
  },
  {
   "cell_type": "code",
   "execution_count": null,
   "id": "1e06f53d",
   "metadata": {
    "lines_to_next_cell": 2
   },
   "outputs": [],
   "source": [
    "np.var(y), y.var(), np.mean((y - y.mean())**2)"
   ]
  },
  {
   "cell_type": "code",
   "execution_count": null,
   "id": "2499a37e",
   "metadata": {},
   "outputs": [],
   "source": [
    "np.sqrt(np.var(y)), np.std(y)"
   ]
  },
  {
   "cell_type": "code",
   "execution_count": null,
   "id": "3c308346",
   "metadata": {},
   "outputs": [],
   "source": [
    "X = rng.standard_normal((10, 3))\n",
    "X"
   ]
  },
  {
   "cell_type": "code",
   "execution_count": null,
   "id": "7b5e8fcd",
   "metadata": {},
   "outputs": [],
   "source": [
    "X.mean(axis=0)"
   ]
  },
  {
   "cell_type": "code",
   "execution_count": null,
   "id": "157d4a21",
   "metadata": {
    "lines_to_next_cell": 0
   },
   "outputs": [],
   "source": [
    "X.mean(0)"
   ]
  },
  {
   "cell_type": "markdown",
   "id": "cdaef318",
   "metadata": {},
   "source": [
    "    "
   ]
  },
  {
   "cell_type": "code",
   "execution_count": null,
   "id": "8b11e94e",
   "metadata": {},
   "outputs": [],
   "source": [
    "from matplotlib.pyplot import subplots\n",
    "fig, ax = subplots(figsize=(8, 8))\n",
    "x = rng.standard_normal(100)\n",
    "y = rng.standard_normal(100)\n",
    "ax.plot(x, y);\n"
   ]
  },
  {
   "cell_type": "code",
   "execution_count": null,
   "id": "04eb327c",
   "metadata": {},
   "outputs": [],
   "source": [
    "output = subplots(figsize=(8, 8))\n",
    "fig = output[0]\n",
    "ax = output[1]"
   ]
  },
  {
   "cell_type": "code",
   "execution_count": null,
   "id": "e678d266",
   "metadata": {
    "lines_to_next_cell": 0
   },
   "outputs": [],
   "source": [
    "fig, ax = subplots(figsize=(8, 8))\n",
    "ax.plot(x, y, 'o');"
   ]
  },
  {
   "cell_type": "code",
   "execution_count": null,
   "id": "b4cff8b7",
   "metadata": {},
   "outputs": [],
   "source": [
    "fig, ax = subplots(figsize=(8, 8))\n",
    "ax.scatter(x, y, marker='o');"
   ]
  },
  {
   "cell_type": "code",
   "execution_count": null,
   "id": "9e59d427",
   "metadata": {
    "lines_to_next_cell": 0
   },
   "outputs": [],
   "source": [
    "fig, ax = subplots(figsize=(8, 8))\n",
    "ax.scatter(x, y, marker='o')\n"
   ]
  },
  {
   "cell_type": "code",
   "execution_count": null,
   "id": "c7408ab0",
   "metadata": {},
   "outputs": [],
   "source": [
    "fig, ax = subplots(figsize=(8, 8))\n",
    "ax.scatter(x, y, marker='o')\n",
    "ax.set_xlabel(\"this is the x-axis\")\n",
    "ax.set_ylabel(\"this is the y-axis\")\n",
    "ax.set_title(\"Plot of X vs Y\");"
   ]
  },
  {
   "cell_type": "code",
   "execution_count": null,
   "id": "52bac447",
   "metadata": {
    "lines_to_next_cell": 0
   },
   "outputs": [],
   "source": [
    "fig.set_size_inches(12,3)\n",
    "fig"
   ]
  },
  {
   "cell_type": "markdown",
   "id": "607babe6",
   "metadata": {},
   "source": [
    " "
   ]
  },
  {
   "cell_type": "code",
   "execution_count": null,
   "id": "0e4d4d4e",
   "metadata": {
    "lines_to_next_cell": 0
   },
   "outputs": [],
   "source": [
    "fig, axes = subplots(nrows=2,\n",
    "                     ncols=3,\n",
    "                     figsize=(15, 5))"
   ]
  },
  {
   "cell_type": "code",
   "execution_count": null,
   "id": "12d9932f",
   "metadata": {
    "lines_to_next_cell": 0
   },
   "outputs": [],
   "source": [
    "axes[0,1].plot(x, y, 'o')\n",
    "axes[1,2].scatter(x, y, marker='+')\n",
    "fig"
   ]
  },
  {
   "cell_type": "code",
   "execution_count": null,
   "id": "17d46f32",
   "metadata": {
    "lines_to_next_cell": 2
   },
   "outputs": [],
   "source": [
    "fig.savefig(\"Figure.png\", dpi=400)\n",
    "fig.savefig(\"Figure.pdf\", dpi=200);\n"
   ]
  },
  {
   "cell_type": "code",
   "execution_count": null,
   "id": "24a361a3",
   "metadata": {},
   "outputs": [],
   "source": [
    "axes[0,1].set_xlim([-1,1])\n",
    "fig.savefig(\"Figure_updated.jpg\")\n",
    "fig"
   ]
  },
  {
   "cell_type": "code",
   "execution_count": null,
   "id": "facce2ec",
   "metadata": {
    "lines_to_next_cell": 0
   },
   "outputs": [],
   "source": [
    "fig, ax = subplots(figsize=(8, 8))\n",
    "x = np.linspace(-np.pi, np.pi, 50)\n",
    "y = x\n",
    "f = np.multiply.outer(np.cos(y), 1 / (1 + x**2))\n",
    "ax.contour(x, y, f);\n"
   ]
  },
  {
   "cell_type": "code",
   "execution_count": null,
   "id": "1683862d",
   "metadata": {
    "lines_to_next_cell": 0
   },
   "outputs": [],
   "source": [
    "fig, ax = subplots(figsize=(8, 8))\n",
    "ax.contour(x, y, f, levels=45);"
   ]
  },
  {
   "cell_type": "code",
   "execution_count": null,
   "id": "abd902e8",
   "metadata": {
    "lines_to_next_cell": 2
   },
   "outputs": [],
   "source": [
    "fig, ax = subplots(figsize=(8, 8))\n",
    "ax.imshow(f);\n"
   ]
  },
  {
   "cell_type": "code",
   "execution_count": null,
   "id": "5d59f1a1",
   "metadata": {
    "lines_to_next_cell": 2
   },
   "outputs": [],
   "source": [
    "seq1 = np.linspace(0, 10, 11)\n",
    "seq1\n"
   ]
  },
  {
   "cell_type": "code",
   "execution_count": null,
   "id": "43939bf3",
   "metadata": {},
   "outputs": [],
   "source": [
    "seq2 = np.arange(0, 10)\n",
    "seq2\n"
   ]
  },
  {
   "cell_type": "code",
   "execution_count": null,
   "id": "8004cba3",
   "metadata": {
    "lines_to_next_cell": 0
   },
   "outputs": [],
   "source": [
    "\"hello world\"[3:6]"
   ]
  },
  {
   "cell_type": "code",
   "execution_count": null,
   "id": "ed4fd312",
   "metadata": {},
   "outputs": [],
   "source": [
    "\"hello world\"[slice(3,6)]\n"
   ]
  },
  {
   "cell_type": "code",
   "execution_count": null,
   "id": "a98b539d",
   "metadata": {},
   "outputs": [],
   "source": [
    "A = np.array(np.arange(16)).reshape((4, 4))\n",
    "A\n"
   ]
  },
  {
   "cell_type": "code",
   "execution_count": null,
   "id": "db2991e9",
   "metadata": {},
   "outputs": [],
   "source": [
    "A[1,2]\n"
   ]
  },
  {
   "cell_type": "code",
   "execution_count": null,
   "id": "9a28347c",
   "metadata": {},
   "outputs": [],
   "source": [
    "A[[1,3]]\n"
   ]
  },
  {
   "cell_type": "code",
   "execution_count": null,
   "id": "8dd02706",
   "metadata": {},
   "outputs": [],
   "source": [
    "A[:,[0,2]]\n"
   ]
  },
  {
   "cell_type": "code",
   "execution_count": null,
   "id": "90e43051",
   "metadata": {},
   "outputs": [],
   "source": [
    "A[[1,3],[0,2]]\n"
   ]
  },
  {
   "cell_type": "code",
   "execution_count": null,
   "id": "6715713f",
   "metadata": {},
   "outputs": [],
   "source": [
    "np.array([A[1,0],A[3,2]])\n"
   ]
  },
  {
   "cell_type": "code",
   "execution_count": null,
   "id": "0a2ec981",
   "metadata": {},
   "outputs": [],
   "source": [
    "A[[1,3],[0,2,3]]\n"
   ]
  },
  {
   "cell_type": "code",
   "execution_count": null,
   "id": "7af33bcc",
   "metadata": {
    "lines_to_next_cell": 0
   },
   "outputs": [],
   "source": [
    "A[[1,3]][:,[0,2]]\n"
   ]
  },
  {
   "cell_type": "markdown",
   "id": "4f0c3bdd",
   "metadata": {},
   "source": [
    "    "
   ]
  },
  {
   "cell_type": "code",
   "execution_count": null,
   "id": "ec304448",
   "metadata": {
    "lines_to_next_cell": 2
   },
   "outputs": [],
   "source": [
    "idx = np.ix_([1,3],[0,2,3])\n",
    "A[idx]\n"
   ]
  },
  {
   "cell_type": "code",
   "execution_count": null,
   "id": "1953fd6f",
   "metadata": {
    "lines_to_next_cell": 0
   },
   "outputs": [],
   "source": [
    "A[1:4:2,0:3:2]\n"
   ]
  },
  {
   "cell_type": "markdown",
   "id": "4daae00d",
   "metadata": {},
   "source": [
    "    "
   ]
  },
  {
   "cell_type": "code",
   "execution_count": null,
   "id": "49d86ff4",
   "metadata": {
    "lines_to_next_cell": 0
   },
   "outputs": [],
   "source": [
    "keep_rows = np.zeros(A.shape[0], bool)\n",
    "keep_rows"
   ]
  },
  {
   "cell_type": "markdown",
   "id": "7d0340e0",
   "metadata": {},
   "source": [
    "We now set two of the elements to `True`. "
   ]
  },
  {
   "cell_type": "code",
   "execution_count": null,
   "id": "9bc2e603",
   "metadata": {},
   "outputs": [],
   "source": [
    "keep_rows[[1,3]] = True\n",
    "keep_rows\n"
   ]
  },
  {
   "cell_type": "code",
   "execution_count": null,
   "id": "2c381dab",
   "metadata": {},
   "outputs": [],
   "source": [
    "np.all(keep_rows == np.array([0,1,0,1]))\n"
   ]
  },
  {
   "cell_type": "code",
   "execution_count": null,
   "id": "d0aebd92",
   "metadata": {},
   "outputs": [],
   "source": [
    "A[np.array([0,1,0,1])]\n"
   ]
  },
  {
   "cell_type": "code",
   "execution_count": null,
   "id": "e6532bac",
   "metadata": {},
   "outputs": [],
   "source": [
    "A[keep_rows]\n"
   ]
  },
  {
   "cell_type": "code",
   "execution_count": null,
   "id": "1d5d984c",
   "metadata": {},
   "outputs": [],
   "source": [
    "keep_cols = np.zeros(A.shape[1], bool)\n",
    "keep_cols[[0, 2, 3]] = True\n",
    "idx_bool = np.ix_(keep_rows, keep_cols)\n",
    "A[idx_bool]\n"
   ]
  },
  {
   "cell_type": "code",
   "execution_count": null,
   "id": "4057cec1",
   "metadata": {
    "lines_to_next_cell": 0
   },
   "outputs": [],
   "source": [
    "idx_mixed = np.ix_([1,3], keep_cols)\n",
    "A[idx_mixed]\n"
   ]
  },
  {
   "cell_type": "markdown",
   "id": "ebbf17e5",
   "metadata": {},
   "source": [
    "    "
   ]
  },
  {
   "cell_type": "code",
   "execution_count": null,
   "id": "d13a6775",
   "metadata": {},
   "outputs": [],
   "source": [
    "import pandas as pd\n",
    "Auto = pd.read_csv('Auto.csv')\n",
    "Auto\n"
   ]
  },
  {
   "cell_type": "code",
   "execution_count": null,
   "id": "f7857be6",
   "metadata": {
    "lines_to_next_cell": 0
   },
   "outputs": [],
   "source": [
    "Auto = pd.read_csv('Auto.data', delim_whitespace=True)\n"
   ]
  },
  {
   "cell_type": "code",
   "execution_count": null,
   "id": "7912c27e",
   "metadata": {
    "lines_to_next_cell": 0
   },
   "outputs": [],
   "source": [
    "Auto['horsepower']\n"
   ]
  },
  {
   "cell_type": "code",
   "execution_count": null,
   "id": "f8078632",
   "metadata": {
    "lines_to_next_cell": 0
   },
   "outputs": [],
   "source": [
    "np.unique(Auto['horsepower'])\n"
   ]
  },
  {
   "cell_type": "code",
   "execution_count": null,
   "id": "aad623ae",
   "metadata": {
    "lines_to_next_cell": 2
   },
   "outputs": [],
   "source": [
    "Auto = pd.read_csv('Auto.data',\n",
    "                   na_values=['?'],\n",
    "                   delim_whitespace=True)\n",
    "Auto['horsepower'].sum()\n"
   ]
  },
  {
   "cell_type": "code",
   "execution_count": null,
   "id": "ae1cad4e",
   "metadata": {},
   "outputs": [],
   "source": [
    "Auto.shape\n"
   ]
  },
  {
   "cell_type": "code",
   "execution_count": null,
   "id": "52eb7971",
   "metadata": {
    "lines_to_next_cell": 2
   },
   "outputs": [],
   "source": [
    "Auto_new = Auto.dropna()\n",
    "Auto_new.shape\n"
   ]
  },
  {
   "cell_type": "code",
   "execution_count": null,
   "id": "3aad1bdb",
   "metadata": {
    "lines_to_next_cell": 0
   },
   "outputs": [],
   "source": [
    "Auto[:3]\n"
   ]
  },
  {
   "cell_type": "code",
   "execution_count": null,
   "id": "ae1e9a3a",
   "metadata": {
    "lines_to_next_cell": 0
   },
   "outputs": [],
   "source": [
    "idx_80 = Auto['year'] > 80\n",
    "Auto[idx_80]\n"
   ]
  },
  {
   "cell_type": "code",
   "execution_count": null,
   "id": "2b543957",
   "metadata": {
    "lines_to_next_cell": 0
   },
   "outputs": [],
   "source": [
    "Auto[['mpg', 'horsepower']]\n"
   ]
  },
  {
   "cell_type": "code",
   "execution_count": null,
   "id": "077b30b4",
   "metadata": {
    "lines_to_next_cell": 0
   },
   "outputs": [],
   "source": [
    "Auto.index\n"
   ]
  },
  {
   "cell_type": "code",
   "execution_count": null,
   "id": "601c3700",
   "metadata": {},
   "outputs": [],
   "source": [
    "Auto_re = Auto.set_index('name')\n",
    "Auto_re\n"
   ]
  },
  {
   "cell_type": "code",
   "execution_count": null,
   "id": "8ef352e3",
   "metadata": {
    "lines_to_next_cell": 0
   },
   "outputs": [],
   "source": [
    "Auto_re.columns\n"
   ]
  },
  {
   "cell_type": "code",
   "execution_count": null,
   "id": "04e94eee",
   "metadata": {
    "lines_to_next_cell": 0
   },
   "outputs": [],
   "source": [
    "rows = ['amc rebel sst', 'ford torino']\n",
    "Auto_re.loc[rows]\n"
   ]
  },
  {
   "cell_type": "code",
   "execution_count": null,
   "id": "5cd1291d",
   "metadata": {
    "lines_to_next_cell": 0
   },
   "outputs": [],
   "source": [
    "Auto_re.iloc[[3,4]]\n"
   ]
  },
  {
   "cell_type": "code",
   "execution_count": null,
   "id": "5f1f3970",
   "metadata": {
    "lines_to_next_cell": 0
   },
   "outputs": [],
   "source": [
    "Auto_re.iloc[:,[0,2,3]]\n"
   ]
  },
  {
   "cell_type": "code",
   "execution_count": null,
   "id": "a9429e4b",
   "metadata": {
    "lines_to_next_cell": 0
   },
   "outputs": [],
   "source": [
    "Auto_re.iloc[[3,4],[0,2,3]]\n"
   ]
  },
  {
   "cell_type": "code",
   "execution_count": null,
   "id": "1fd20b7d",
   "metadata": {
    "lines_to_next_cell": 0
   },
   "outputs": [],
   "source": [
    "Auto_re.loc['ford galaxie 500', ['mpg', 'origin']]\n"
   ]
  },
  {
   "cell_type": "code",
   "execution_count": null,
   "id": "df6fa9de",
   "metadata": {
    "lines_to_next_cell": 2
   },
   "outputs": [],
   "source": [
    "idx_80 = Auto_re['year'] > 80\n",
    "Auto_re.loc[idx_80, ['weight', 'origin']]\n"
   ]
  },
  {
   "cell_type": "code",
   "execution_count": null,
   "id": "b57f8503",
   "metadata": {
    "lines_to_next_cell": 0
   },
   "outputs": [],
   "source": [
    "Auto_re.loc[lambda df: df['year'] > 80, ['weight', 'origin']]\n"
   ]
  },
  {
   "cell_type": "code",
   "execution_count": null,
   "id": "965b5b74",
   "metadata": {
    "lines_to_next_cell": 0
   },
   "outputs": [],
   "source": [
    "Auto_re.loc[lambda df: (df['year'] > 80) & (df['mpg'] > 30),\n",
    "            ['weight', 'origin']\n",
    "           ]\n"
   ]
  },
  {
   "cell_type": "code",
   "execution_count": null,
   "id": "37ba9d44",
   "metadata": {
    "lines_to_next_cell": 0
   },
   "outputs": [],
   "source": [
    "Auto_re.loc[lambda df: (df['displacement'] < 300)\n",
    "                       & (df.index.str.contains('ford')\n",
    "                       | df.index.str.contains('datsun')),\n",
    "            ['weight', 'origin']\n",
    "           ]\n"
   ]
  },
  {
   "cell_type": "code",
   "execution_count": null,
   "id": "2e945229",
   "metadata": {
    "lines_to_next_cell": 0
   },
   "outputs": [],
   "source": [
    "total = 0\n",
    "for value in [3,2,19]:\n",
    "    total += value\n",
    "print('Total is: {0}'.format(total))\n"
   ]
  },
  {
   "cell_type": "code",
   "execution_count": null,
   "id": "a8042d85",
   "metadata": {
    "lines_to_next_cell": 0
   },
   "outputs": [],
   "source": [
    "total = 0\n",
    "for value in [2,3,19]:\n",
    "    for weight in [3, 2, 1]:\n",
    "        total += value * weight\n",
    "print('Total is: {0}'.format(total))"
   ]
  },
  {
   "cell_type": "code",
   "execution_count": null,
   "id": "25f92ff6",
   "metadata": {},
   "outputs": [],
   "source": [
    "total = 0\n",
    "for value, weight in zip([2,3,19],\n",
    "                         [0.2,0.3,0.5]):\n",
    "    total += weight * value\n",
    "print('Weighted average is: {0}'.format(total))\n"
   ]
  },
  {
   "cell_type": "code",
   "execution_count": null,
   "id": "35700d0c",
   "metadata": {
    "lines_to_next_cell": 2
   },
   "outputs": [],
   "source": [
    "rng = np.random.default_rng(1)\n",
    "A = rng.standard_normal((127, 5))\n",
    "M = rng.choice([0, np.nan], p=[0.8,0.2], size=A.shape)\n",
    "A += M\n",
    "D = pd.DataFrame(A, columns=['food',\n",
    "                             'bar',\n",
    "                             'pickle',\n",
    "                             'snack',\n",
    "                             'popcorn'])\n",
    "D[:3]\n"
   ]
  },
  {
   "cell_type": "code",
   "execution_count": null,
   "id": "dc8b3ab5",
   "metadata": {
    "lines_to_next_cell": 0
   },
   "outputs": [],
   "source": [
    "for col in D.columns:\n",
    "    template = 'Column \"{0}\" has {1:.2%} missing values'\n",
    "    print(template.format(col,\n",
    "          np.isnan(D[col]).mean()))\n"
   ]
  },
  {
   "cell_type": "code",
   "execution_count": null,
   "id": "06c63b21",
   "metadata": {
    "lines_to_next_cell": 0
   },
   "outputs": [],
   "source": [
    "fig, ax = subplots(figsize=(8, 8))\n",
    "ax.plot(horsepower, mpg, 'o');"
   ]
  },
  {
   "cell_type": "markdown",
   "id": "13400a24",
   "metadata": {},
   "source": [
    "We can address this by accessing the columns directly:"
   ]
  },
  {
   "cell_type": "code",
   "execution_count": null,
   "id": "dae69229",
   "metadata": {
    "lines_to_next_cell": 0
   },
   "outputs": [],
   "source": [
    "fig, ax = subplots(figsize=(8, 8))\n",
    "ax.plot(Auto['horsepower'], Auto['mpg'], 'o');\n"
   ]
  },
  {
   "cell_type": "markdown",
   "id": "743334ab",
   "metadata": {},
   "source": [
    "Alternatively, we can use the `plot()` method with the call `Auto.plot()`.\n",
    "Using this method,\n",
    "the variables  can be accessed by name.\n",
    "The plot methods of a data frame return a familiar object:\n",
    "an axes. We can use it to update the plot as we did previously: "
   ]
  },
  {
   "cell_type": "code",
   "execution_count": null,
   "id": "9fbba9c1",
   "metadata": {
    "lines_to_next_cell": 0
   },
   "outputs": [],
   "source": [
    "ax = Auto.plot.scatter('horsepower', 'mpg')\n",
    "ax.set_title('Horsepower vs. MPG');"
   ]
  },
  {
   "cell_type": "code",
   "execution_count": null,
   "id": "f04edd65",
   "metadata": {},
   "outputs": [],
   "source": [
    "fig = ax.figure\n",
    "fig.savefig('horsepower_mpg.png');"
   ]
  },
  {
   "cell_type": "code",
   "execution_count": null,
   "id": "c0e67313",
   "metadata": {},
   "outputs": [],
   "source": [
    "fig, axes = subplots(ncols=3, figsize=(15, 5))\n",
    "Auto.plot.scatter('horsepower', 'mpg', ax=axes[1]);\n"
   ]
  },
  {
   "cell_type": "code",
   "execution_count": null,
   "id": "660482a9",
   "metadata": {
    "lines_to_next_cell": 0
   },
   "outputs": [],
   "source": [
    "Auto.cylinders = pd.Series(Auto.cylinders, dtype='category')\n",
    "Auto.cylinders.dtype\n"
   ]
  },
  {
   "cell_type": "code",
   "execution_count": null,
   "id": "9eb5befc",
   "metadata": {},
   "outputs": [],
   "source": [
    "fig, ax = subplots(figsize=(8, 8))\n",
    "Auto.boxplot('mpg', by='cylinders', ax=ax);\n"
   ]
  },
  {
   "cell_type": "code",
   "execution_count": null,
   "id": "f529de12",
   "metadata": {
    "lines_to_next_cell": 0
   },
   "outputs": [],
   "source": [
    "fig, ax = subplots(figsize=(8, 8))\n",
    "Auto.hist('mpg', ax=ax);\n"
   ]
  },
  {
   "cell_type": "code",
   "execution_count": null,
   "id": "9a897cee",
   "metadata": {
    "lines_to_next_cell": 0
   },
   "outputs": [],
   "source": [
    "fig, ax = subplots(figsize=(8, 8))\n",
    "Auto.hist('mpg', color='red', bins=12, ax=ax);\n"
   ]
  },
  {
   "cell_type": "code",
   "execution_count": null,
   "id": "5e003b22",
   "metadata": {
    "lines_to_next_cell": 0
   },
   "outputs": [],
   "source": [
    "pd.plotting.scatter_matrix(Auto);\n"
   ]
  },
  {
   "cell_type": "markdown",
   "id": "b7ecee3c",
   "metadata": {},
   "source": [
    " We can also produce scatterplots\n",
    "for a subset of the variables."
   ]
  },
  {
   "cell_type": "code",
   "execution_count": null,
   "id": "87f2d391",
   "metadata": {
    "lines_to_next_cell": 0
   },
   "outputs": [],
   "source": [
    "pd.plotting.scatter_matrix(Auto[['mpg',\n",
    "                                 'displacement',\n",
    "                                 'weight']]);\n"
   ]
  },
  {
   "cell_type": "code",
   "execution_count": null,
   "id": "33cc3b75",
   "metadata": {
    "lines_to_next_cell": 0
   },
   "outputs": [],
   "source": [
    "Auto[['mpg', 'weight']].describe()\n"
   ]
  },
  {
   "cell_type": "code",
   "execution_count": null,
   "id": "398d24d3",
   "metadata": {
    "lines_to_next_cell": 0
   },
   "outputs": [],
   "source": [
    "Auto['cylinders'].describe()\n",
    "Auto['mpg'].describe()\n"
   ]
  }
 ],
 "metadata": {
  "jupytext": {
   "cell_metadata_filter": "-all",
   "main_language": "python",
   "notebook_metadata_filter": "-all"
  },
  "kernelspec": {
   "display_name": "Python 3 (ipykernel)",
   "language": "python",
   "name": "python3"
  },
  "language_info": {
   "codemirror_mode": {
    "name": "ipython",
    "version": 3
   },
   "file_extension": ".py",
   "mimetype": "text/x-python",
   "name": "python",
   "nbconvert_exporter": "python",
   "pygments_lexer": "ipython3",
   "version": "3.11.7"
  }
 },
 "nbformat": 4,
 "nbformat_minor": 5
}
